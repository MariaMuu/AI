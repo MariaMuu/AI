{
  "nbformat": 4,
  "nbformat_minor": 0,
  "metadata": {
    "colab": {
      "provenance": [],
      "authorship_tag": "ABX9TyO63NztKz3EC48cUbQ55rNO",
      "include_colab_link": true
    },
    "kernelspec": {
      "name": "python3",
      "display_name": "Python 3"
    },
    "language_info": {
      "name": "python"
    }
  },
  "cells": [
    {
      "cell_type": "markdown",
      "metadata": {
        "id": "view-in-github",
        "colab_type": "text"
      },
      "source": [
        "<a href=\"https://colab.research.google.com/github/MariaMuu/AI/blob/main/zero_shot_classification_transformers.ipynb\" target=\"_parent\"><img src=\"https://colab.research.google.com/assets/colab-badge.svg\" alt=\"Open In Colab\"/></a>"
      ]
    },
    {
      "cell_type": "code",
      "source": [
        "from transformers import pipeline"
      ],
      "metadata": {
        "id": "Qm9LoXD9GWfo"
      },
      "execution_count": null,
      "outputs": []
    },
    {
      "cell_type": "code",
      "execution_count": null,
      "metadata": {
        "id": "N0omaNFCGSix"
      },
      "outputs": [],
      "source": [
        "classifier = pipeline(\"zero-shot-classification\")"
      ]
    },
    {
      "cell_type": "code",
      "source": [
        "classifier(\n",
        "    \"Different LLMs have different personalities\",\n",
        "    candidate_labels=\n",
        "     [\"education\", \"Aritificial Intelligence\", \"politics\", \"business\", \"technology\", \"cooking\"],\n",
        ")"
      ],
      "metadata": {
        "id": "kA7WHkgfGbOc"
      },
      "execution_count": null,
      "outputs": []
    }
  ]
}