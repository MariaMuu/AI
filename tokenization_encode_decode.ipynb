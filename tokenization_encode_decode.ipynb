{
  "nbformat": 4,
  "nbformat_minor": 0,
  "metadata": {
    "colab": {
      "provenance": [],
      "authorship_tag": "ABX9TyOzkGTeizzbPd1qEzhw+PuC",
      "include_colab_link": true
    },
    "kernelspec": {
      "name": "python3",
      "display_name": "Python 3"
    },
    "language_info": {
      "name": "python"
    }
  },
  "cells": [
    {
      "cell_type": "markdown",
      "metadata": {
        "id": "view-in-github",
        "colab_type": "text"
      },
      "source": [
        "<a href=\"https://colab.research.google.com/github/MariaMuu/AI/blob/main/tokenization_encode_decode.ipynb\" target=\"_parent\"><img src=\"https://colab.research.google.com/assets/colab-badge.svg\" alt=\"Open In Colab\"/></a>"
      ]
    },
    {
      "cell_type": "code",
      "execution_count": null,
      "metadata": {
        "id": "HDGD733fg4e0"
      },
      "outputs": [],
      "source": [
        "from transformers import AutoTokenizer # it will automatically find the best model that suits your situation\n",
        "tokenizer = AutoTokenizer.from_pretrained(\"bert-base-uncased\")"
      ]
    },
    {
      "cell_type": "code",
      "source": [
        "text = 'If simulation theory is correct, then my theory is probably right, as boring simulations are terminated to save compute costs, which is what we do to simulations in our reality!'"
      ],
      "metadata": {
        "id": "lxfauHJ7hZDZ"
      },
      "execution_count": 2,
      "outputs": []
    },
    {
      "cell_type": "code",
      "source": [
        "tokens = tokenizer.tokenize(text) #tokenize the text\n",
        "print('Tokens:', tokens)"
      ],
      "metadata": {
        "colab": {
          "base_uri": "https://localhost:8080/"
        },
        "id": "CuTDwTGmhnXa",
        "outputId": "dbdaf182-6d17-40e1-ee18-c33b4d97f65c"
      },
      "execution_count": 6,
      "outputs": [
        {
          "output_type": "stream",
          "name": "stdout",
          "text": [
            "Tokens: ['if', 'simulation', 'theory', 'is', 'correct', ',', 'then', 'my', 'theory', 'is', 'probably', 'right', ',', 'as', 'boring', 'simulations', 'are', 'terminated', 'to', 'save', 'compute', 'costs', ',', 'which', 'is', 'what', 'we', 'do', 'to', 'simulations', 'in', 'our', 'reality', '!']\n"
          ]
        }
      ]
    },
    {
      "cell_type": "code",
      "source": [
        "# convert tokens to input IDs\n",
        "\n",
        "input_ids = tokenizer.convert_tokens_to_ids(tokens)\n",
        "print('Input IDs:', input_ids)"
      ],
      "metadata": {
        "colab": {
          "base_uri": "https://localhost:8080/"
        },
        "id": "kbMn3ETxh6NZ",
        "outputId": "92a75be2-bc55-49e8-fb12-d07ccc98a964"
      },
      "execution_count": 5,
      "outputs": [
        {
          "output_type": "stream",
          "name": "stdout",
          "text": [
            "Input IDs: [2065, 12504, 3399, 2003, 6149, 1010, 2059, 2026, 3399, 2003, 2763, 2157, 1010, 2004, 11771, 24710, 2024, 12527, 2000, 3828, 24134, 5366, 1010, 2029, 2003, 2054, 2057, 2079, 2000, 24710, 1999, 2256, 4507, 999]\n"
          ]
        }
      ]
    },
    {
      "cell_type": "code",
      "source": [
        "# encode the text (tokenization + converting to input IDs)\n",
        "\n",
        "encoded_input = tokenizer(text)\n",
        "print('Encoded input:', encoded_input)"
      ],
      "metadata": {
        "colab": {
          "base_uri": "https://localhost:8080/"
        },
        "id": "eK6iKAcViwWk",
        "outputId": "9542f2f5-7038-4ccd-cd8d-426159d28831"
      },
      "execution_count": 7,
      "outputs": [
        {
          "output_type": "stream",
          "name": "stdout",
          "text": [
            "Encoded input: {'input_ids': [101, 2065, 12504, 3399, 2003, 6149, 1010, 2059, 2026, 3399, 2003, 2763, 2157, 1010, 2004, 11771, 24710, 2024, 12527, 2000, 3828, 24134, 5366, 1010, 2029, 2003, 2054, 2057, 2079, 2000, 24710, 1999, 2256, 4507, 999, 102], 'token_type_ids': [0, 0, 0, 0, 0, 0, 0, 0, 0, 0, 0, 0, 0, 0, 0, 0, 0, 0, 0, 0, 0, 0, 0, 0, 0, 0, 0, 0, 0, 0, 0, 0, 0, 0, 0, 0], 'attention_mask': [1, 1, 1, 1, 1, 1, 1, 1, 1, 1, 1, 1, 1, 1, 1, 1, 1, 1, 1, 1, 1, 1, 1, 1, 1, 1, 1, 1, 1, 1, 1, 1, 1, 1, 1, 1]}\n"
          ]
        }
      ]
    },
    {
      "cell_type": "code",
      "source": [
        "# decode the text\n",
        "\n",
        "decoded_text = tokenizer.decode(encoded_input['input_ids'])\n",
        "print('Decoded text:', decoded_text)"
      ],
      "metadata": {
        "colab": {
          "base_uri": "https://localhost:8080/"
        },
        "id": "HrLOZ25mkiuN",
        "outputId": "59356318-277c-4811-982c-4ca4f3733b2a"
      },
      "execution_count": 8,
      "outputs": [
        {
          "output_type": "stream",
          "name": "stdout",
          "text": [
            "Decoded text: [CLS] if simulation theory is correct, then my theory is probably right, as boring simulations are terminated to save compute costs, which is what we do to simulations in our reality! [SEP]\n"
          ]
        }
      ]
    }
  ]
}