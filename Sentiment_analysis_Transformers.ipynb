{
  "nbformat": 4,
  "nbformat_minor": 0,
  "metadata": {
    "colab": {
      "provenance": [],
      "authorship_tag": "ABX9TyMP71MXadpgqgM7SmiF6vz4",
      "include_colab_link": true
    },
    "kernelspec": {
      "name": "python3",
      "display_name": "Python 3"
    },
    "language_info": {
      "name": "python"
    }
  },
  "cells": [
    {
      "cell_type": "markdown",
      "metadata": {
        "id": "view-in-github",
        "colab_type": "text"
      },
      "source": [
        "<a href=\"https://colab.research.google.com/github/MariaMuu/AI/blob/main/Sentiment_analysis_Transformers.ipynb\" target=\"_parent\"><img src=\"https://colab.research.google.com/assets/colab-badge.svg\" alt=\"Open In Colab\"/></a>"
      ]
    },
    {
      "cell_type": "code",
      "execution_count": null,
      "metadata": {
        "id": "Wfg_yo-RcKF-"
      },
      "outputs": [],
      "source": [
        "from transformers import pipeline"
      ]
    },
    {
      "cell_type": "code",
      "source": [
        "classifier = pipeline('sentiment-analysis', model = 'SamLowe/roberta-base-go_emotions')"
      ],
      "metadata": {
        "id": "m7Q7KM_RdBAj"
      },
      "execution_count": null,
      "outputs": []
    },
    {
      "cell_type": "code",
      "source": [
        "sentences = ['I think she does not enjoy our company today', \\\n",
        "             'Have I told you how much I like working with you?', \\\n",
        "             'The stock market opening today was very volatile',\\\n",
        "             'Remind me when I asked for your permission to do something?', \\\n",
        "             'Travelling gives my life meaning', \\\n",
        "             'I need to find my purpose']\n",
        "classifier(sentences)"
      ],
      "metadata": {
        "id": "GG5xmtjZd5NF"
      },
      "execution_count": null,
      "outputs": []
    },
    {
      "cell_type": "code",
      "source": [
        "classifier = pipeline('sentiment-analysis')\n",
        "\n",
        "sentences = ['I think she does not enjoy our company today', \\\n",
        "             'Have I told you how much I like working with you?', \\\n",
        "             'The stock market opening today was very volatile',\\\n",
        "             'Remind me when I asked for your permission to do something?', \\\n",
        "             'Travelling gives my life meaning', \\\n",
        "             'I need to find my purpose and then I will be free']\n",
        "classifier(sentences)"
      ],
      "metadata": {
        "id": "0MFZW4jFfgUi"
      },
      "execution_count": null,
      "outputs": []
    }
  ]
}