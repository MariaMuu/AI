{
  "nbformat": 4,
  "nbformat_minor": 0,
  "metadata": {
    "colab": {
      "provenance": [],
      "authorship_tag": "ABX9TyPfkI9MbaD1ZcNNC5SQoC33",
      "include_colab_link": true
    },
    "kernelspec": {
      "name": "python3",
      "display_name": "Python 3"
    },
    "language_info": {
      "name": "python"
    }
  },
  "cells": [
    {
      "cell_type": "markdown",
      "metadata": {
        "id": "view-in-github",
        "colab_type": "text"
      },
      "source": [
        "<a href=\"https://colab.research.google.com/github/MariaMuu/AI/blob/main/Text_generation_Transformers.ipynb\" target=\"_parent\"><img src=\"https://colab.research.google.com/assets/colab-badge.svg\" alt=\"Open In Colab\"/></a>"
      ]
    },
    {
      "cell_type": "markdown",
      "source": [
        "# **Text generation without a specific model**"
      ],
      "metadata": {
        "id": "zq8xkbW0Ibdk"
      }
    },
    {
      "cell_type": "code",
      "execution_count": null,
      "metadata": {
        "id": "_y_UiiL0IagC"
      },
      "outputs": [],
      "source": [
        "from transformers import pipeline"
      ]
    },
    {
      "cell_type": "code",
      "source": [
        "generator = pipeline(\"text-generation\")"
      ],
      "metadata": {
        "id": "WkfAb8rcIpPJ"
      },
      "execution_count": null,
      "outputs": []
    },
    {
      "cell_type": "code",
      "source": [
        "generator(\"NLP is the broader field focused on enabling computers understant, interpret and generate natural language.\")"
      ],
      "metadata": {
        "id": "EI1No9cdJcZx"
      },
      "execution_count": null,
      "outputs": []
    },
    {
      "cell_type": "markdown",
      "source": [
        "# Generate 3 different sentences and max number of words: 25"
      ],
      "metadata": {
        "id": "7l74RlOOKPRI"
      }
    },
    {
      "cell_type": "code",
      "source": [
        "generator(\"NLP is the broader field focused on enabling computers understant, interpret and generate natural language.\",\n",
        "          max_length = 25,\n",
        "          num_return_sequences = 3,\n",
        "          truncation = True)"
      ],
      "metadata": {
        "id": "VgQlWGOnKfAO"
      },
      "execution_count": null,
      "outputs": []
    },
    {
      "cell_type": "markdown",
      "source": [
        "# Generate text with a specific model"
      ],
      "metadata": {
        "id": "MQSfamRCLfOU"
      }
    },
    {
      "cell_type": "code",
      "source": [
        "from transformers import pipeline"
      ],
      "metadata": {
        "id": "5dtKssWdLj36"
      },
      "execution_count": null,
      "outputs": []
    },
    {
      "cell_type": "code",
      "source": [
        "generator = pipeline('text-generation', model = 'Qwen/Qwen3-Reranker-0.6B')"
      ],
      "metadata": {
        "id": "Fkd-mqzmLoiX"
      },
      "execution_count": null,
      "outputs": []
    },
    {
      "cell_type": "code",
      "source": [
        "generator(\"NLP is the broader field focused on enabling computers understant, interpret and generate natural language.\",\n",
        "          max_length = 25,\n",
        "          num_return_sequences = 3,\n",
        "          truncation = True)"
      ],
      "metadata": {
        "id": "9ewZfJvRNsxd"
      },
      "execution_count": null,
      "outputs": []
    }
  ]
}