{
  "nbformat": 4,
  "nbformat_minor": 0,
  "metadata": {
    "colab": {
      "provenance": [],
      "authorship_tag": "ABX9TyOvv+I9wd4m/LT53Zsql7S9",
      "include_colab_link": true
    },
    "kernelspec": {
      "name": "python3",
      "display_name": "Python 3"
    },
    "language_info": {
      "name": "python"
    }
  },
  "cells": [
    {
      "cell_type": "markdown",
      "metadata": {
        "id": "view-in-github",
        "colab_type": "text"
      },
      "source": [
        "<a href=\"https://colab.research.google.com/github/MariaMuu/AI/blob/main/NER_transformers.ipynb\" target=\"_parent\"><img src=\"https://colab.research.google.com/assets/colab-badge.svg\" alt=\"Open In Colab\"/></a>"
      ]
    },
    {
      "cell_type": "code",
      "source": [
        "from transformers import pipeline"
      ],
      "metadata": {
        "id": "dK9l1wbpvpYv"
      },
      "execution_count": null,
      "outputs": []
    },
    {
      "cell_type": "code",
      "source": [
        "ner = pipeline(\"ner\", model=\"dslim/bert-base-NER\")\n",
        "ner('\"Bitcoin (BTC) is a cryptocurrency (a virtual currency) designed to act as money and a form of payment outside the control of any one person, group, or entity. This removes the need for trusted third-party involvement (e.g., a mint or bank) in financial transactions. Bitcoin was introduced to the public in 2008 by an anonymous developer or group of developers using the name Satoshi Nakamoto. In August 2008, the domain name Bitcoin.org was registered. It was created by Satoshi Nakamoto and Martti Malmi, who worked with the anonymous Nakamoto to develop Bitcoin. In October 2008, Nakamoto announced to the cryptography mailing list at metzdowd.com: Ive been working on a new electronic cash system thats fully peer-to-peer, with no trusted third party. The now-famous white paper published on Bitcoin.org, entitled Bitcoin: A Peer-to-Peer Electronic Cash System would become the Magna Carta for how Bitcoin operates today. On Jan. 3, 2009, the first Bitcoin block was mined. Called Block 0, it is also known as the genesis block and contains the text: The Times 03/Jan/2009 Chancellor on brink of second bailout for banks perhaps proof that the block was mined on or after that date. Bitcoin rewards are halved every 210,000 blocks. For example, the block reward was 50 new bitcoins in 2009. On May 11, 2020, the third halving occurred, bringing the reward for each block down to 6.25 bitcoins. The fourth halving occurred in April 2024 and lowered the reward to 3.125 bitcoins. The next halving should happen in mid-2028 and reduce the reward to 1.5625 BTC')"
      ],
      "metadata": {
        "id": "K3upzgQ8v55D"
      },
      "execution_count": null,
      "outputs": []
    },
    {
      "cell_type": "code",
      "source": [
        "#ner = pipeline(\"ner\", grouped_entities = True)\n",
        "#ner('\"Bitcoin (BTC) is a cryptocurrency (a virtual currency) designed to act as money and a form of payment outside the control of any one person, group, or entity. This removes the need for trusted third-party involvement (e.g., a mint or bank) in financial transactions. Bitcoin was introduced to the public in 2008 by an anonymous developer or group of developers using the name Satoshi Nakamoto. In August 2008, the domain name Bitcoin.org was registered. It was created by Satoshi Nakamoto and Martti Malmi, who worked with the anonymous Nakamoto to develop Bitcoin. In October 2008, Nakamoto announced to the cryptography mailing list at metzdowd.com: Ive been working on a new electronic cash system thats fully peer-to-peer, with no trusted third party. The now-famous white paper published on Bitcoin.org, entitled Bitcoin: A Peer-to-Peer Electronic Cash System would become the Magna Carta for how Bitcoin operates today. On Jan. 3, 2009, the first Bitcoin block was mined. Called Block 0, it is also known as the genesis block and contains the text: The Times 03/Jan/2009 Chancellor on brink of second bailout for banks perhaps proof that the block was mined on or after that date. Bitcoin rewards are halved every 210,000 blocks. For example, the block reward was 50 new bitcoins in 2009. On May 11, 2020, the third halving occurred, bringing the reward for each block down to 6.25 bitcoins. The fourth halving occurred in April 2024 and lowered the reward to 3.125 bitcoins. The next halving should happen in mid-2028 and reduce the reward to 1.5625 BTC')"
      ],
      "metadata": {
        "id": "PwCj3UmM5Mo7"
      },
      "execution_count": null,
      "outputs": []
    }
  ]
}